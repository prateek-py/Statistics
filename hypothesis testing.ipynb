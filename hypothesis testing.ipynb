{
 "cells": [
  {
   "cell_type": "code",
   "execution_count": 2,
   "id": "76e7b758",
   "metadata": {},
   "outputs": [],
   "source": [
    "import pandas as pd\n",
    "import numpy as np\n",
    "import math\n",
    "import re"
   ]
  },
  {
   "cell_type": "code",
   "execution_count": 3,
   "id": "069a47eb",
   "metadata": {},
   "outputs": [],
   "source": [
    "# t table\n",
    "dict1={0.5:[0.000,0.000,0.000,0.000,0.000,0.000,0.000,0.000,0.000,0.000,0.000,0.000,0.000,0.000,0.000,0.000,0.000,0.000,0.000,0.000,0.000,0.000,0.000,0.000,0.000,0.000,0.000,0.000,0.000,0.000],0.25:[1.000,0.816,0.765,0.741,0.727,0.718,0.711,0.706,0.703,0.700,0.697,0.695,0.694,0.692,0.691,0.690,0.689,0.688,0.688,0.687,0.686,0.686,0.685,0.685,0.684,0.684,0.684,0.683,0.683,0.683],0.2:[1.376,1.061,0.978,0.941,0.920,0.906,0.896,0.889,0.883,0.879,0.876,0.873,0.870,0.868,0.866,0.865,0.863,0.862,0.861,0.860,0.859,0.858,0.858,0.857,0.856,0.856,0.855,0.855,0.854,0.854],0.15:[1.963,1.386,1.250,1.190,1.156,1.134,1.119,1.108,1.100,1.093,1.088,1.083,1.079,1.076,1.074,1.071,1.069,1.067,1.066,1.064,1.063,1.061,1.060,1.059,1.058,1.058,1.057,1.056,1.055,1.055],0.10:[3.078,1.886,1.638,1.533,1.476,1.440,1.415,1.397,1.383,1.372,1.363,1.356,1.350,1.345,1.341,1.337,1.333,1.330,1.328,1.325,1.323,1.321,1.319,1.318,1.316,1.315,1.314,1.313,1.311,1.310],0.05:[6.314,2.920,2.353,2.132,2.015,1.943,1.895,1.860,1.833,1.812,1.796,1.782,1.771,1.761,1.753,1.746,1.740,1.734,1.729,1.725,1.721,1.717,1.714,1.711,1.708,1.706,1.703,1.701,1.699,1.697], 0.025:[12.71 ,4.303 ,3.182 ,2.776 ,2.571 ,2.447 ,2.365 ,2.306 ,2.262 ,2.228,2.201,2.179,2.160,2.145,2.131,2.120,2.110,2.101,2.093,2.086,2.080,2.074,2.069,2.064,2.060,2.056,2.052,2.048,2.045,2.042],0.01:[31.82,6.965,4.541,3.747,3.365,3.143,2.998,2.896,2.821,2.764,2.718,2.681,2.650,2.624,2.602,2.583,2.567,2.552,2.539,2.528,2.518,2.508,2.500,2.492,2.485,2.479,2.473,2.467,2.462,2.457],0.005:[63.66,9.925,5.841,4.604,4.032,3.707,3.499,3.355,3.250,3.169,3.106,3.055,3.012,2.977,2.947,2.921,2.898,2.878,2.861,2.845,2.831,2.819,2.807,2.797,2.787,2.779,2.771,2.763,2.756,2.750],0.001:[318.31,22.327,10.215,7.173 ,5.893 ,5.208 ,4.785 ,4.501 ,4.297 ,4.144 ,4.025 ,3.930 ,3.852 ,3.787 ,3.733 ,3.686 ,3.646 ,3.610 ,3.579 ,3.552 ,3.527 ,3.505 ,3.485 ,3.467 ,3.450 ,3.435 ,3.421 ,3.408 ,3.396 ,3.385 ],0.0005:[636.62,31.599,12.924,8.610,6.869,5.959,5.408,5.041,4.781,4.587,4.437,4.318,4.221,4.140,4.073,4.015,3.965,3.922,3.883,3.850,3.819,3.792,3.768,3.745,3.725,3.707,3.690,3.674,3.659,3.646]}\n",
    "df_t=pd.DataFrame(dict1, index=list(range(1,31)))"
   ]
  },
  {
   "cell_type": "code",
   "execution_count": 4,
   "id": "21c76745",
   "metadata": {},
   "outputs": [],
   "source": [
    "def hypothesis_and_estimate():\n",
    "    '''\n",
    "    Finds point estimate, interval estimate and does hypothesis testing\n",
    "    \n",
    "    Inputs :\n",
    "    hyp : dict, default {'Ho':'mu>=8','Ha':'mu<8'}\n",
    "          It accepts hypothesis statement as a dictionary\n",
    "        \n",
    "    alpha: float, default 0.1 (press Enter to select the default value)\n",
    "           Significance level. alpha=1-confidence interval.\n",
    "           Values - 0.1, 0.05 (for sample size>30 - z statistic)\n",
    "           1.0, 0.5, 0.4, 0.3, 0.2, 0.1, 0.05, 0.02, 0.01, 0.002, 0.001 (for sample size<30 - t statistic)\n",
    "    \n",
    "    \n",
    "    '''\n",
    "    \n",
    "    z={0.1:1.28, 0.05:1.645, 0.025:1.96}\n",
    "    flag=0\n",
    "    \n",
    "    ## ---------------------------user input--------------------------------\n",
    " \n",
    "    inp2 = input('''\n",
    "    Enter one of the following \n",
    "    1 : Point Estimate\n",
    "    2 : Interval Estimate\n",
    "    3 : Hypothesis testing\n",
    "    4 : All\n",
    "    any other key : quit\n",
    "    \n",
    "    ''')\n",
    "    if inp2 in ('1','2','4'):\n",
    "        inp3 = input('''\n",
    "        How do you want to provide the data?\n",
    "        1 : CSV\n",
    "        2 : Direct sample data \n",
    "        any other key : quit\n",
    "        \n",
    "        ''')\n",
    "        if inp3=='1':\n",
    "            csv = input('Enter csv file name: ')\n",
    "            col = int(input('Column number in the csv to analyze (default 0): ') or 0)\n",
    "            \n",
    "            try:\n",
    "                df=pd.read_csv(csv)\n",
    "            except:\n",
    "                print(\"Enter valid csv file name\")\n",
    "                return\n",
    "            else:\n",
    "                # Selecting the required data from the csv\n",
    "                df1=df.select_dtypes(include=np.number) # remove non numeric columns\n",
    "                col_name=df1.columns.values[col]  #column name\n",
    "                print(col_name,\" data\")\n",
    "                df2=df1.iloc[:,col]   #get the column values            \n",
    "                \n",
    "                sample_size=df2.count()\n",
    "                sample_mean=df2.mean()\n",
    "                sample_std=df2.std()\n",
    "            \n",
    "        elif inp3=='2' and inp2!='1':    # for point estimate only, we dont need everything\n",
    "            sample_mean, sample_std, sample_size = eval(input(\"Sample mean,Sample std,sample size: \"))\n",
    "\n",
    "        elif inp3=='2' and inp2=='1':  # for point estimate \n",
    "            sample_mean=float(input('Sample mean: '))\n",
    "        else:\n",
    "            return\n",
    "        \n",
    "    elif inp2=='3':  \n",
    "        sample_mean, sample_size = eval(input(\"Sample mean, Sample size: \"))\n",
    "\n",
    "    else:\n",
    "        return\n",
    "    \n",
    "    # asking for population std\n",
    "    if inp2 =='2':\n",
    "        pop_std = eval(input('Population std(if available or else press enter): ') or 'None')\n",
    "    elif inp2 in ('3','4'):\n",
    "        pop_std = float(input('Population std: '))\n",
    "       \n",
    "    if inp2!='1':  #asking for alpha (not when we just want point estimate)\n",
    "        alpha = float(input(\"Enter alpha value (press Enter to select the default value - 0.1): \") or 0.1)\n",
    "    \n",
    "    ## -----------------------Point estimate-------------------------------------\n",
    "    \n",
    "    if inp2 in ('1','4'):\n",
    "        print('\\nPoint estimate = ', sample_mean,'\\n')\n",
    "        \n",
    "    ## -----------------------Hypothesis testing----------------------------------\n",
    "    \n",
    "    if inp2 in ('3','4'):\n",
    "        hyp=eval(input(\"Enter hypothesis (default - {'Ho':'mu>=8','Ha':'mu<8'} press Enter to select): \") or \"{'Ho':'mu>=8','Ha':'mu<8'}\")\n",
    "        mu=int(re.findall(r'\\d+',hyp['Ho'])[0])\n",
    "        z_stats=(sample_mean-mu)/(pop_std/math.sqrt(sample_size))\n",
    "        \n",
    "        # comparison of z-alpha and z-stats based on the tail(s)\n",
    "        try:\n",
    "            if hyp['Ho'].find('>')!=-1:\n",
    "                print('\\nThis is a z-distribution with lower tail')\n",
    "                if -z[alpha]>=z_stats:\n",
    "                    print('Null hypothesis rejected based on the sample provided')\n",
    "                else:\n",
    "                    print('Null hypothesis accepted based on the sample provided')\n",
    "            elif hyp['Ho'].find('<')!=-1:\n",
    "                print('\\nThis is a z-distribution with upper tail')\n",
    "                if z[alpha]<=z_stats:\n",
    "                    print('Null hypothesis rejected based on the sample provided')\n",
    "                else:\n",
    "                    print('Null hypothesis accepted based on the sample provided')\n",
    "            else:\n",
    "                print('\\nThis is a z-distribution with two tails')\n",
    "                if z[alpha/2]<=abs(z_stats):   # abs is used if z_stats comes out to be in the lower extreme (when sample_mean<mu)\n",
    "                    print('Null hypothesis rejected based on the sample provided')\n",
    "                else:\n",
    "                    print('Null hypothesis accepted based on the sample provided')\n",
    "        except:\n",
    "            print('Check the documentation for the available alpha value')\n",
    "    \n",
    "       \n",
    "    ## -------------------------------Calculations for IE----------------------------------\n",
    "    \n",
    "    if inp2 in ('2','4'):\n",
    "        try:\n",
    "            if sample_size>30:\n",
    "                flag=1\n",
    "                std=pop_std if pop_std!=None else sample_std  # if population sd is provided use that for the z statistic\n",
    "                E=z[alpha/2]*std/math.sqrt(sample_size) \n",
    "            else:\n",
    "                std=sample_std\n",
    "                E=df_t[alpha/2][sample_size-1]*std/math.sqrt(sample_size)\n",
    "        except:\n",
    "            print(\"Check the documentation for the available alpha value\")\n",
    "        else:\n",
    "            interval_estimate = str(sample_mean-E)+ ' to ' + str(sample_mean+E)\n",
    "            txt=\"z\" if flag==1 else \"t\"\n",
    "            print(f'\\nThis is a {txt} distribution with')\n",
    "            print('Interval estimate = ', interval_estimate)\n",
    "        "
   ]
  },
  {
   "cell_type": "code",
   "execution_count": 48,
   "id": "c521c121",
   "metadata": {},
   "outputs": [
    {
     "name": "stdout",
     "output_type": "stream",
     "text": [
      "\n",
      "    Enter one of the following \n",
      "    1 : Point Estimate\n",
      "    2 : Interval Estimate\n",
      "    3 : Hypothesis testing\n",
      "    4 : All\n",
      "    any other key : quit\n",
      "    \n",
      "    1\n",
      "\n",
      "        How do you want to provide the data?\n",
      "        1 : CSV\n",
      "        2 : Direct sample data \n",
      "        any other key : quit\n",
      "        \n",
      "        2\n",
      "Sample mean: 23\n",
      "\n",
      "Point estimate =  23.0 \n",
      "\n"
     ]
    }
   ],
   "source": [
    "hypothesis_and_estimate()"
   ]
  },
  {
   "cell_type": "code",
   "execution_count": 49,
   "id": "5aec4e9c",
   "metadata": {},
   "outputs": [
    {
     "name": "stdout",
     "output_type": "stream",
     "text": [
      "\n",
      "    Enter one of the following \n",
      "    1 : Point Estimate\n",
      "    2 : Interval Estimate\n",
      "    3 : Hypothesis testing\n",
      "    4 : All\n",
      "    any other key : quit\n",
      "    \n",
      "    1\n",
      "\n",
      "        How do you want to provide the data?\n",
      "        1 : CSV\n",
      "        2 : Direct sample data \n",
      "        any other key : quit\n",
      "        \n",
      "        1\n",
      "Enter csv file name: sample(z-stat).csv\n",
      "Column number in the csv to analyze (default 0): \n",
      "Salary  data\n",
      "\n",
      "Point estimate =  180921.19589041095 \n",
      "\n"
     ]
    }
   ],
   "source": [
    "hypothesis_and_estimate()"
   ]
  },
  {
   "cell_type": "code",
   "execution_count": 50,
   "id": "3d13754b",
   "metadata": {},
   "outputs": [
    {
     "name": "stdout",
     "output_type": "stream",
     "text": [
      "\n",
      "    Enter one of the following \n",
      "    1 : Point Estimate\n",
      "    2 : Interval Estimate\n",
      "    3 : Hypothesis testing\n",
      "    4 : All\n",
      "    any other key : quit\n",
      "    \n",
      "    2\n",
      "\n",
      "        How do you want to provide the data?\n",
      "        1 : CSV\n",
      "        2 : Direct sample data \n",
      "        any other key : quit\n",
      "        \n",
      "        2\n",
      "Sample mean,Sample std,sample size: 45,3.2,23\n",
      "Population std(if available or else press enter): \n",
      "Enter alpha value (press Enter to select the default value - 0.1): \n",
      "\n",
      "This is a t distribution with\n",
      "Interval estimate =  43.85433840340481 to 46.14566159659519\n"
     ]
    }
   ],
   "source": [
    "hypothesis_and_estimate()"
   ]
  },
  {
   "cell_type": "code",
   "execution_count": 51,
   "id": "ca5b2753",
   "metadata": {},
   "outputs": [
    {
     "name": "stdout",
     "output_type": "stream",
     "text": [
      "\n",
      "    Enter one of the following \n",
      "    1 : Point Estimate\n",
      "    2 : Interval Estimate\n",
      "    3 : Hypothesis testing\n",
      "    4 : All\n",
      "    any other key : quit\n",
      "    \n",
      "    3\n",
      "Sample mean, Sample size: 8.2,34\n",
      "Population std: 0.5\n",
      "Enter alpha value (press Enter to select the default value - 0.1): 0.05\n",
      "Enter hypothesis (default - {'Ho':'mu>=8','Ha':'mu<8'} press Enter to select): \n",
      "\n",
      "This is a z-distribution with lower tail\n",
      "Null hypothesis accepted based on the sample provided\n"
     ]
    }
   ],
   "source": [
    "hypothesis_and_estimate()"
   ]
  },
  {
   "cell_type": "code",
   "execution_count": 53,
   "id": "6dccb62f",
   "metadata": {},
   "outputs": [
    {
     "name": "stdout",
     "output_type": "stream",
     "text": [
      "\n",
      "    Enter one of the following \n",
      "    1 : Point Estimate\n",
      "    2 : Interval Estimate\n",
      "    3 : Hypothesis testing\n",
      "    4 : All\n",
      "    any other key : quit\n",
      "    \n",
      "    4\n",
      "\n",
      "        How do you want to provide the data?\n",
      "        1 : CSV\n",
      "        2 : Direct sample data \n",
      "        any other key : quit\n",
      "        \n",
      "        1\n",
      "Enter csv file name: sample(z-stat).csv\n",
      "Column number in the csv to analyze (default 0): \n",
      "Salary  data\n",
      "Population std: 2.5\n",
      "Enter alpha value (press Enter to select the default value - 0.1): \n",
      "\n",
      "Point estimate =  180921.19589041095 \n",
      "\n",
      "Enter hypothesis (default - {'Ho':'mu>=8','Ha':'mu<8'} press Enter to select): {'Ho':'mu<=180000','Ha':'mu>180000'}\n",
      "\n",
      "This is a z-distribution with upper tail\n",
      "Null hypothesis rejected based on the sample provided\n",
      "\n",
      "This is a z distribution with\n",
      "Interval estimate =  180921.08826136688 to 180921.30351945502\n"
     ]
    }
   ],
   "source": [
    "hypothesis_and_estimate()"
   ]
  },
  {
   "cell_type": "code",
   "execution_count": 54,
   "id": "bdde09de",
   "metadata": {},
   "outputs": [
    {
     "name": "stdout",
     "output_type": "stream",
     "text": [
      "\n",
      "    Enter one of the following \n",
      "    1 : Point Estimate\n",
      "    2 : Interval Estimate\n",
      "    3 : Hypothesis testing\n",
      "    4 : All\n",
      "    any other key : quit\n",
      "    \n",
      "    4\n",
      "\n",
      "        How do you want to provide the data?\n",
      "        1 : CSV\n",
      "        2 : Direct sample data \n",
      "        any other key : quit\n",
      "        \n",
      "        2\n",
      "Sample mean,Sample std,sample size: 6.1,0.4,30\n",
      "Population std: 0.2\n",
      "Enter alpha value (press Enter to select the default value - 0.1): 0.05\n",
      "\n",
      "Point estimate =  6.1 \n",
      "\n",
      "Enter hypothesis (default - {'Ho':'mu>=8','Ha':'mu<8'} press Enter to select): {'Ho':'mu=6','Ha':'mu!=6'}\n",
      "\n",
      "This is a z-distribution with two tails\n",
      "Null hypothesis rejected based on the sample provided\n",
      "\n",
      "This is a t distribution with\n",
      "Interval estimate =  5.950654315986925 to 6.2493456840130746\n"
     ]
    }
   ],
   "source": [
    "hypothesis_and_estimate()"
   ]
  },
  {
   "cell_type": "code",
   "execution_count": 56,
   "id": "0bf9fa33",
   "metadata": {},
   "outputs": [
    {
     "name": "stdout",
     "output_type": "stream",
     "text": [
      "\n",
      "    Enter one of the following \n",
      "    1 : Point Estimate\n",
      "    2 : Interval Estimate\n",
      "    3 : Hypothesis testing\n",
      "    4 : All\n",
      "    any other key : quit\n",
      "    \n",
      "    3\n",
      "Sample mean, Sample size: 9,34\n",
      "Population std: 0.5\n",
      "Enter alpha value (press Enter to select the default value - 0.1): 0.34\n",
      "Enter hypothesis (default - {'Ho':'mu>=8','Ha':'mu<8'} press Enter to select): \n",
      "\n",
      "This is a z-distribution with lower tail\n",
      "Check the documentation for the available alpha value\n"
     ]
    }
   ],
   "source": [
    "hypothesis_and_estimate()"
   ]
  },
  {
   "cell_type": "code",
   "execution_count": 59,
   "id": "1fecf75c",
   "metadata": {},
   "outputs": [
    {
     "name": "stdout",
     "output_type": "stream",
     "text": [
      "\n",
      "    Enter one of the following \n",
      "    1 : Point Estimate\n",
      "    2 : Interval Estimate\n",
      "    3 : Hypothesis testing\n",
      "    4 : All\n",
      "    any other key : quit\n",
      "    \n",
      "    4\n",
      "\n",
      "        How do you want to provide the data?\n",
      "        1 : CSV\n",
      "        2 : Direct sample data \n",
      "        any other key : quit\n",
      "        \n",
      "        1\n",
      "Enter csv file name: sample(t-stat).csv\n",
      "Column number in the csv to analyze (default 0): \n",
      "Salary  data\n",
      "Population std: 5\n",
      "Enter alpha value (press Enter to select the default value - 0.1): \n",
      "\n",
      "Point estimate =  190435.29411764705 \n",
      "\n",
      "Enter hypothesis (default - {'Ho':'mu>=8','Ha':'mu<8'} press Enter to select): {'Ho':'mu<=200000','Ha':'mu>200000'}\n",
      "\n",
      "This is a z-distribution with upper tail\n",
      "Null hypothesis accepted based on the sample provided\n",
      "\n",
      "This is a t distribution with\n",
      "Interval estimate =  161178.29201318906 to 219692.29622210504\n"
     ]
    }
   ],
   "source": [
    "hypothesis_and_estimate()"
   ]
  },
  {
   "cell_type": "code",
   "execution_count": 5,
   "id": "61bae1f5",
   "metadata": {},
   "outputs": [
    {
     "name": "stdout",
     "output_type": "stream",
     "text": [
      "\n",
      "    Enter one of the following \n",
      "    1 : Point Estimate\n",
      "    2 : Interval Estimate\n",
      "    3 : Hypothesis testing\n",
      "    4 : All\n",
      "    any other key : quit\n",
      "    \n",
      "    4\n",
      "\n",
      "        How do you want to provide the data?\n",
      "        1 : CSV\n",
      "        2 : Direct sample data \n",
      "        any other key : quit\n",
      "        \n",
      "        1\n",
      "Enter csv file name: sample(z-stat).csv\n",
      "Column number in the csv to analyze (default 0): \n",
      "Salary  data\n",
      "Population std: 5\n",
      "Enter alpha value (press Enter to select the default value - 0.1): \n",
      "\n",
      "Point estimate =  180921.19589041095 \n",
      "\n",
      "Enter hypothesis (default - {'Ho':'mu>=8','Ha':'mu<8'} press Enter to select): {'Ho':'mu=180000','Ha':'mu!=180000'}\n",
      "\n",
      "This is a z-distribution with two tails\n",
      "Null hypothesis rejected based on the sample provided\n",
      "\n",
      "This is a z distribution with\n",
      "Interval estimate =  180920.98063232278 to 180921.41114849912\n"
     ]
    }
   ],
   "source": [
    "hypothesis_and_estimate()"
   ]
  },
  {
   "cell_type": "code",
   "execution_count": null,
   "id": "02cf1190",
   "metadata": {},
   "outputs": [],
   "source": []
  }
 ],
 "metadata": {
  "kernelspec": {
   "display_name": "Python 3 (ipykernel)",
   "language": "python",
   "name": "python3"
  },
  "language_info": {
   "codemirror_mode": {
    "name": "ipython",
    "version": 3
   },
   "file_extension": ".py",
   "mimetype": "text/x-python",
   "name": "python",
   "nbconvert_exporter": "python",
   "pygments_lexer": "ipython3",
   "version": "3.10.1"
  },
  "varInspector": {
   "cols": {
    "lenName": 16,
    "lenType": 16,
    "lenVar": 40
   },
   "kernels_config": {
    "python": {
     "delete_cmd_postfix": "",
     "delete_cmd_prefix": "del ",
     "library": "var_list.py",
     "varRefreshCmd": "print(var_dic_list())"
    },
    "r": {
     "delete_cmd_postfix": ") ",
     "delete_cmd_prefix": "rm(",
     "library": "var_list.r",
     "varRefreshCmd": "cat(var_dic_list()) "
    }
   },
   "types_to_exclude": [
    "module",
    "function",
    "builtin_function_or_method",
    "instance",
    "_Feature"
   ],
   "window_display": false
  }
 },
 "nbformat": 4,
 "nbformat_minor": 5
}
