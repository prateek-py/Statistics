{
 "cells": [
  {
   "cell_type": "code",
   "execution_count": 3,
   "id": "cc222ff9",
   "metadata": {},
   "outputs": [],
   "source": [
    "import pandas as pd\n",
    "import numpy as np\n",
    "import math"
   ]
  },
  {
   "cell_type": "code",
   "execution_count": null,
   "id": "b4378a66",
   "metadata": {},
   "outputs": [],
   "source": []
  },
  {
   "cell_type": "code",
   "execution_count": 4,
   "id": "b883963a",
   "metadata": {},
   "outputs": [],
   "source": [
    "# t table\n",
    "dict1={0.5:[0.000,0.000,0.000,0.000,0.000,0.000,0.000,0.000,0.000,0.000,0.000,0.000,0.000,0.000,0.000,0.000,0.000,0.000,0.000,0.000,0.000,0.000,0.000,0.000,0.000,0.000,0.000,0.000,0.000,0.000],0.25:[1.000,0.816,0.765,0.741,0.727,0.718,0.711,0.706,0.703,0.700,0.697,0.695,0.694,0.692,0.691,0.690,0.689,0.688,0.688,0.687,0.686,0.686,0.685,0.685,0.684,0.684,0.684,0.683,0.683,0.683],0.2:[1.376,1.061,0.978,0.941,0.920,0.906,0.896,0.889,0.883,0.879,0.876,0.873,0.870,0.868,0.866,0.865,0.863,0.862,0.861,0.860,0.859,0.858,0.858,0.857,0.856,0.856,0.855,0.855,0.854,0.854],0.15:[1.963,1.386,1.250,1.190,1.156,1.134,1.119,1.108,1.100,1.093,1.088,1.083,1.079,1.076,1.074,1.071,1.069,1.067,1.066,1.064,1.063,1.061,1.060,1.059,1.058,1.058,1.057,1.056,1.055,1.055],0.10:[3.078,1.886,1.638,1.533,1.476,1.440,1.415,1.397,1.383,1.372,1.363,1.356,1.350,1.345,1.341,1.337,1.333,1.330,1.328,1.325,1.323,1.321,1.319,1.318,1.316,1.315,1.314,1.313,1.311,1.310],0.05:[6.314,2.920,2.353,2.132,2.015,1.943,1.895,1.860,1.833,1.812,1.796,1.782,1.771,1.761,1.753,1.746,1.740,1.734,1.729,1.725,1.721,1.717,1.714,1.711,1.708,1.706,1.703,1.701,1.699,1.697], 0.025:[12.71 ,4.303 ,3.182 ,2.776 ,2.571 ,2.447 ,2.365 ,2.306 ,2.262 ,2.228,2.201,2.179,2.160,2.145,2.131,2.120,2.110,2.101,2.093,2.086,2.080,2.074,2.069,2.064,2.060,2.056,2.052,2.048,2.045,2.042],0.01:[31.82,6.965,4.541,3.747,3.365,3.143,2.998,2.896,2.821,2.764,2.718,2.681,2.650,2.624,2.602,2.583,2.567,2.552,2.539,2.528,2.518,2.508,2.500,2.492,2.485,2.479,2.473,2.467,2.462,2.457],0.005:[63.66,9.925,5.841,4.604,4.032,3.707,3.499,3.355,3.250,3.169,3.106,3.055,3.012,2.977,2.947,2.921,2.898,2.878,2.861,2.845,2.831,2.819,2.807,2.797,2.787,2.779,2.771,2.763,2.756,2.750],0.001:[318.31,22.327,10.215,7.173 ,5.893 ,5.208 ,4.785 ,4.501 ,4.297 ,4.144 ,4.025 ,3.930 ,3.852 ,3.787 ,3.733 ,3.686 ,3.646 ,3.610 ,3.579 ,3.552 ,3.527 ,3.505 ,3.485 ,3.467 ,3.450 ,3.435 ,3.421 ,3.408 ,3.396 ,3.385 ],0.0005:[636.62,31.599,12.924,8.610,6.869,5.959,5.408,5.041,4.781,4.587,4.437,4.318,4.221,4.140,4.073,4.015,3.965,3.922,3.883,3.850,3.819,3.792,3.768,3.745,3.725,3.707,3.690,3.674,3.659,3.646]}\n",
    "df_t=pd.DataFrame(dict1, index=list(range(1,31)))"
   ]
  },
  {
   "cell_type": "code",
   "execution_count": null,
   "id": "403dd15d",
   "metadata": {},
   "outputs": [],
   "source": []
  },
  {
   "cell_type": "code",
   "execution_count": 5,
   "id": "e01ba586",
   "metadata": {},
   "outputs": [],
   "source": [
    "def estimate(csv=None,col=0,alpha=0.1,pop_std=None,sample_mean=None,sample_std=None,sample_size=None):\n",
    "    '''\n",
    "    Finds the point and interval estimate using the appropriate statistic(z or t) \n",
    "    \n",
    "    Provide either a csv with sample data or the  required sample statistics\n",
    "    \n",
    "    Parameters:    csv: str, optional\n",
    "                        Name of the csv file with the sample data\n",
    "                   col: int, default 0\n",
    "                        Incase of many columns in the csv. Select the column number for the analysis\n",
    "                    \n",
    "                   alpha: float, default 0.1\n",
    "                        Significance level. alpha=1-confidence interval.\n",
    "                        Values - 0.1, 0.05 (for sample size>30 - z statistic)\n",
    "                                 1.0, 0.5, 0.4, 0.3, 0.2, 0.1, 0.05, 0.02, 0.01, 0.002, 0.001 (for sample size<30 - t statistic)                                \n",
    "                        \n",
    "                   pop_std: float, optional\n",
    "                        Standard deviation for the population. If available use this\n",
    "                        for z-statistic or else the sample standard deviation.\n",
    "                        \n",
    "                   sample_mean: float,optional(Provide in case of no csv)\n",
    "                        Mean of the sample. \n",
    "                   sample_std: float,optional(Provide in case of no csv)\n",
    "                        Standard deviation of the sample.\n",
    "                   sample_size: int,optional(Provide in case of no csv)\n",
    "                        Size of the sample.\n",
    "    '''\n",
    "    z={0.05:1.645, 0.025:1.96}\n",
    "    flag=0\n",
    "    if csv!=None:\n",
    "        try:\n",
    "            df=pd.read_csv(csv)\n",
    "        except:\n",
    "            print(\"Enter valid csv file name\")\n",
    "        else:\n",
    "            #Selecting the required data from the csv\n",
    "            df1=df.select_dtypes(include=np.number) # remove non numeric columns\n",
    "            col_name=df1.columns.values[col]  #column name\n",
    "            print(col_name,\" data\")\n",
    "            df2=df1.iloc[:,col]   #get the column values            \n",
    "            \n",
    "            sample_size=df2.count()\n",
    "            sample_mean=df2.mean()\n",
    "            sample_std=df2.std()\n",
    "            \n",
    "    elif sample_mean==None or sample_std==None or sample_size==None :\n",
    "        print(\"Provide the necessary data\")\n",
    "        return\n",
    "    \n",
    "    # Calculations for IE    \n",
    "    try:\n",
    "        if sample_size>30:\n",
    "            flag=1\n",
    "            std=pop_std if pop_std!=None else sample_std  # if population sd is provided use that for the z statistic\n",
    "            E=z[alpha/2]*std/math.sqrt(sample_size) \n",
    "        else:\n",
    "            std=sample_std\n",
    "            E=df_t[alpha/2][sample_size-1]*std/math.sqrt(sample_size)\n",
    "    except:\n",
    "        print(\"Check the documentation for the available alpha value\")\n",
    "    else:\n",
    "        interval_estimate = str(sample_mean-E)+ ' to ' + str(sample_mean+E)\n",
    "        txt=\"z\" if flag==1 else \"t\"\n",
    "        print(f'This is a {txt} distribution with')\n",
    "        print('Point estimate = ', sample_mean)\n",
    "        print('Interval estimate = ', interval_estimate)\n",
    "        "
   ]
  },
  {
   "cell_type": "code",
   "execution_count": 6,
   "id": "c6641c1b",
   "metadata": {
    "scrolled": true
   },
   "outputs": [
    {
     "name": "stdout",
     "output_type": "stream",
     "text": [
      "Salary  data\n",
      "This is a z distribution with\n",
      "Point estimate =  180921.19589041095\n",
      "Interval estimate =  177501.06763248483 to 184341.32414833707\n"
     ]
    }
   ],
   "source": [
    "estimate('sample(z-stat).csv')"
   ]
  },
  {
   "cell_type": "code",
   "execution_count": 7,
   "id": "24634e51",
   "metadata": {},
   "outputs": [
    {
     "name": "stdout",
     "output_type": "stream",
     "text": [
      "Salary  data\n",
      "This is a z distribution with\n",
      "Point estimate =  180921.19589041095\n",
      "Interval estimate =  180835.09265514486 to 181007.29912567703\n"
     ]
    }
   ],
   "source": [
    "estimate('sample(z-stat).csv', pop_std=2000) # if population sd is available"
   ]
  },
  {
   "cell_type": "code",
   "execution_count": 8,
   "id": "b5dbd6ec",
   "metadata": {},
   "outputs": [
    {
     "name": "stdout",
     "output_type": "stream",
     "text": [
      "Salary  data\n",
      "This is a t distribution with\n",
      "Point estimate =  190435.29411764705\n",
      "Interval estimate =  161178.29201318906 to 219692.29622210504\n"
     ]
    }
   ],
   "source": [
    "estimate('sample(t-stat).csv')"
   ]
  },
  {
   "cell_type": "code",
   "execution_count": 9,
   "id": "379a2dfc",
   "metadata": {},
   "outputs": [
    {
     "name": "stdout",
     "output_type": "stream",
     "text": [
      "MSSubClass  data\n",
      "This is a z distribution with\n",
      "Point estimate =  56.897260273972606\n",
      "Interval estimate =  55.0761522658876 to 58.71836828205761\n"
     ]
    }
   ],
   "source": [
    "estimate('HouseData.csv',col=1)"
   ]
  },
  {
   "cell_type": "code",
   "execution_count": 10,
   "id": "fe4421dc",
   "metadata": {},
   "outputs": [
    {
     "name": "stdout",
     "output_type": "stream",
     "text": [
      "This is a t distribution with\n",
      "Point estimate =  18000\n",
      "Interval estimate =  17909.06235103105 to 18090.93764896895\n"
     ]
    }
   ],
   "source": [
    "estimate(sample_mean=18000,sample_std=200,sample_size=15)"
   ]
  },
  {
   "cell_type": "code",
   "execution_count": 11,
   "id": "aee3b489",
   "metadata": {},
   "outputs": [
    {
     "name": "stdout",
     "output_type": "stream",
     "text": [
      "This is a z distribution with\n",
      "Point estimate =  18000\n",
      "Interval estimate =  17950.955575693504 to 18049.044424306496\n"
     ]
    }
   ],
   "source": [
    "estimate(sample_mean=18000,sample_std=200,sample_size=45, alpha=0.1)"
   ]
  },
  {
   "cell_type": "code",
   "execution_count": 12,
   "id": "cd29038c",
   "metadata": {},
   "outputs": [
    {
     "name": "stdout",
     "output_type": "stream",
     "text": [
      "Provide the necessary data\n"
     ]
    }
   ],
   "source": [
    "estimate() # cant leave it empty"
   ]
  },
  {
   "cell_type": "code",
   "execution_count": 13,
   "id": "1aa68145",
   "metadata": {},
   "outputs": [
    {
     "name": "stdout",
     "output_type": "stream",
     "text": [
      "Provide the necessary data\n"
     ]
    }
   ],
   "source": [
    "estimate(sample_mean=18000,sample_size=45, alpha=0.1) # sample sd missing"
   ]
  },
  {
   "cell_type": "code",
   "execution_count": null,
   "id": "8e60909f",
   "metadata": {},
   "outputs": [],
   "source": []
  },
  {
   "cell_type": "code",
   "execution_count": null,
   "id": "868b135f",
   "metadata": {},
   "outputs": [],
   "source": []
  }
 ],
 "metadata": {
  "kernelspec": {
   "display_name": "Python 3 (ipykernel)",
   "language": "python",
   "name": "python3"
  },
  "language_info": {
   "codemirror_mode": {
    "name": "ipython",
    "version": 3
   },
   "file_extension": ".py",
   "mimetype": "text/x-python",
   "name": "python",
   "nbconvert_exporter": "python",
   "pygments_lexer": "ipython3",
   "version": "3.10.1"
  },
  "varInspector": {
   "cols": {
    "lenName": 16,
    "lenType": 16,
    "lenVar": 40
   },
   "kernels_config": {
    "python": {
     "delete_cmd_postfix": "",
     "delete_cmd_prefix": "del ",
     "library": "var_list.py",
     "varRefreshCmd": "print(var_dic_list())"
    },
    "r": {
     "delete_cmd_postfix": ") ",
     "delete_cmd_prefix": "rm(",
     "library": "var_list.r",
     "varRefreshCmd": "cat(var_dic_list()) "
    }
   },
   "types_to_exclude": [
    "module",
    "function",
    "builtin_function_or_method",
    "instance",
    "_Feature"
   ],
   "window_display": false
  }
 },
 "nbformat": 4,
 "nbformat_minor": 5
}
